{
 "cells": [
  {
   "attachments": {},
   "cell_type": "markdown",
   "metadata": {},
   "source": [
    "Julia just finished conducting a coding contest, and she needs your help assembling the leaderboard! Write a query to print the respective hacker_id and name of hackers who achieved full scores for more than one challenge. Order your output in descending order by the total number of challenges in which the hacker earned a full score. If more than one hacker received full scores in same number of challenges, then sort them by ascending hacker_id."
   ]
  },
  {
   "attachments": {},
   "cell_type": "markdown",
   "metadata": {},
   "source": [
    "The goal is to order the table first and mark count of each line\n",
    "then select the counted value  in the middle  "
   ]
  },
  {
   "attachments": {},
   "cell_type": "markdown",
   "metadata": {},
   "source": [
    "SOLUTION 1"
   ]
  },
  {
   "cell_type": "code",
   "execution_count": null,
   "metadata": {
    "vscode": {
     "languageId": "sql"
    }
   },
   "outputs": [],
   "source": [
    "-- The goal of cte is to list all hackers that achieved full score with their score cc the order by the score and hacker_id\n",
    "with cte as (\n",
    "select h.hacker_id , h.name ,  COUNT(1) as cc  from Submissions s\n",
    "inner join challenges c on s.challenge_id = c.challenge_id\n",
    "inner join Difficulty d on d.difficulty_level = c.difficulty_level\n",
    "inner join hackers h on (s.hacker_id = h.hacker_id  )\n",
    "where s.score = d.score\n",
    "GROUP BY h.hacker_id, h.name \n",
    "having COUNT(1) > 1\n",
    ")\n",
    "select hacker_id , name from cte\n",
    "order by cc desc , hacker_id asc"
   ]
  }
 ],
 "metadata": {
  "language_info": {
   "name": "python"
  },
  "orig_nbformat": 4
 },
 "nbformat": 4,
 "nbformat_minor": 2
}
