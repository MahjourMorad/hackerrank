{
 "cells": [
  {
   "attachments": {},
   "cell_type": "markdown",
   "metadata": {},
   "source": [
    "Harry Potter and his friends are at Ollivander's with Ron, finally replacing Charlie's old broken wand.\n",
    "\n",
    "Hermione decides the best way to choose is by determining the minimum number of gold galleons needed to buy each non-evil wand of high power and age. Write a query to print the id, age, coins_needed, and power of the wands that Ron's interested in, sorted in order of descending power. If more than one wand has same power, sort the result in order of descending age."
   ]
  },
  {
   "cell_type": "code",
   "execution_count": null,
   "metadata": {
    "vscode": {
     "languageId": "sql"
    }
   },
   "outputs": [],
   "source": [
    "with cte as (\n",
    "select w.id,wp.age,w.coins_needed,w.power, ROW_NUMBER() OVER (PARTITION BY w.power,wp.age order by w.power desc , wp.age desc,w.coins_needed asc) num\n",
    "from wands w\n",
    "join Wands_Property wp on w.code =wp.code\n",
    "where wp.is_evil = 0\n",
    ")\n",
    "select id,age,coins_needed,power from cte where cte.num = 1 order by power desc ,age desc"
   ]
  }
 ],
 "metadata": {
  "language_info": {
   "name": "python"
  },
  "orig_nbformat": 4
 },
 "nbformat": 4,
 "nbformat_minor": 2
}
